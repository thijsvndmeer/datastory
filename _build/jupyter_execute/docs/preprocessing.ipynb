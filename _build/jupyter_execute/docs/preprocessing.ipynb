{
 "cells": [
  {
   "cell_type": "code",
   "execution_count": 1,
   "id": "6f9d592b",
   "metadata": {},
   "outputs": [
    {
     "name": "stderr",
     "output_type": "stream",
     "text": [
      "C:\\Users\\Thijs\\AppData\\Local\\Temp\\ipykernel_12700\\2735695489.py:47: SettingWithCopyWarning: \n",
      "A value is trying to be set on a copy of a slice from a DataFrame\n",
      "\n",
      "See the caveats in the documentation: https://pandas.pydata.org/pandas-docs/stable/user_guide/indexing.html#returning-a-view-versus-a-copy\n",
      "  df_ins_clean.rename(columns={'instellingsnaam_actueel': 'instellingsnaam'}, inplace=True)\n"
     ]
    },
    {
     "name": "stdout",
     "output_type": "stream",
     "text": [
      "✅ Gereed: 261600 rijen opgeslagen, inclusief toekomstige jaren.\n"
     ]
    }
   ],
   "source": [
    "import pandas as pd\n",
    "\n",
    "# 1. Inladen\n",
    "excel_file = 'studentenprognoses-2025.xlsx'\n",
    "excel_sheet = 'i v o s t h'\n",
    "csv_file = '04.-inschrijvingen-wo-2024.csv'\n",
    "\n",
    "# 2. Kolomnamen opschonen\n",
    "def clean_cols(df):\n",
    "    df.columns = df.columns.str.strip().str.lower().str.replace(' ', '_', regex=False)\n",
    "\n",
    "# Prognoses\n",
    "df_prog = pd.read_excel(excel_file, sheet_name=excel_sheet)\n",
    "clean_cols(df_prog)\n",
    "\n",
    "# Alleen relevante kolommen\n",
    "prognose_cols = [\n",
    "    'instellingscode', 'instellingsnaam', 'jaar',\n",
    "    'instroom_ho', 'tweedejaars_ho', 'hogerejaars_ho'\n",
    "]\n",
    "df_prog = df_prog[prognose_cols]\n",
    "df_prog['jaar'] = df_prog['jaar'].astype(int)\n",
    "\n",
    "# Inschrijvingen\n",
    "df_ins = pd.read_csv(csv_file, sep=';')\n",
    "clean_cols(df_ins)\n",
    "\n",
    "# Inschrijvingen naar long-form\n",
    "jaar_cols = [col for col in df_ins.columns if col.isdigit()]\n",
    "id_cols = [col for col in df_ins.columns if col not in jaar_cols]\n",
    "df_ins_long = df_ins.melt(id_vars=id_cols, value_vars=jaar_cols,\n",
    "                          var_name='jaar', value_name='inschrijvingen')\n",
    "\n",
    "# Waarden opschonen en types zetten\n",
    "df_ins_long['jaar'] = df_ins_long['jaar'].astype(int)\n",
    "df_ins_long['inschrijvingen'] = pd.to_numeric(\n",
    "    df_ins_long['inschrijvingen'].astype(str).str.extract(r'(\\d+)', expand=False),\n",
    "    errors='coerce'\n",
    ").fillna(0).astype(int)\n",
    "\n",
    "# Kolomnaam harmoniseren\n",
    "if 'instellingscode_actueel' in df_ins_long.columns:\n",
    "    df_ins_long.rename(columns={'instellingscode_actueel': 'instellingscode'}, inplace=True)\n",
    "\n",
    "# Houd alleen nodige kolommen\n",
    "df_ins_clean = df_ins_long[['instellingscode', 'jaar', 'instellingsnaam_actueel', 'inschrijvingen']]\n",
    "df_ins_clean.rename(columns={'instellingsnaam_actueel': 'instellingsnaam'}, inplace=True)\n",
    "\n",
    "# 🧠 Merge met prognoses (LEFT JOIN zodat toekomstige jaren blijven)\n",
    "df_merge = pd.merge(df_prog, df_ins_clean, on=['instellingscode', 'jaar'], how='left')\n",
    "\n",
    "# Vul eventueel ontbrekende inschrijvingen met 0\n",
    "df_merge['inschrijvingen'] = df_merge['inschrijvingen'].fillna(0).astype(int)\n",
    "\n",
    "# Prognosekolommen hernoemen\n",
    "df_merge.rename(columns={\n",
    "    'instroom_ho': 'prognose_instroom',\n",
    "    'tweedejaars_ho': 'prognose_tweedejaars',\n",
    "    'hogerejaars_ho': 'prognose_hogerejaars'\n",
    "}, inplace=True)\n",
    "\n",
    "# Sorteren\n",
    "df_merge.sort_values(['instellingscode', 'jaar'], inplace=True)\n",
    "\n",
    "# Opslaan\n",
    "df_merge.to_csv('studentdata_preprocessed.csv', index=False)\n",
    "print(f\"✅ Gereed: {df_merge.shape[0]} rijen opgeslagen, inclusief toekomstige jaren.\")\n"
   ]
  }
 ],
 "metadata": {
  "kernelspec": {
   "display_name": "base",
   "language": "python",
   "name": "python3"
  },
  "language_info": {
   "codemirror_mode": {
    "name": "ipython",
    "version": 3
   },
   "file_extension": ".py",
   "mimetype": "text/x-python",
   "name": "python",
   "nbconvert_exporter": "python",
   "pygments_lexer": "ipython3",
   "version": "3.10.16"
  }
 },
 "nbformat": 4,
 "nbformat_minor": 5
}