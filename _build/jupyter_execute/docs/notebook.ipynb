{
 "cells": [
  {
   "cell_type": "markdown",
   "id": "f54350f8",
   "metadata": {},
   "source": [
    "# Growth and Challenges in Dutch Higher Education\n",
    "## Enrollment Trends and Future Projections\n",
    "\n",
    "- Jens Groen (15853411)\n",
    "- Thijs van der Meer (15831086)\n",
    "- Sarah Kruse (15396142)\n"
   ]
  },
  {
   "cell_type": "markdown",
   "id": "e38ea0d9",
   "metadata": {},
   "source": [
    "\n",
    "## Introduction\n",
    "\n",
    "In this data story project, we investigate the growth and challenges in Dutch higher education using two DUO datasets:\n",
    "1. **Inschrijvingen WO (2019–2023)**  (University Enrollments (2019–2023)) \n",
    "2. **Aantallen en prognoses hogere opleidingen (2017–2038)**  (Numbers and Projections of Higher Education (2017–2038))\n",
    "\n",
    "We highlight two perspectives:\n",
    "- **Perspective 1:** The Benefits of Enrollment Growth\n",
    "- **Perspective 2:** Projections and future bottlenecks due to demographic trends.\n",
    "\n",
    "Each section is supported with visualizations created in Python.\n"
   ]
  },
  {
   "cell_type": "markdown",
   "id": "862edcf2",
   "metadata": {},
   "source": [
    "\n",
    "## Dataset and Preprocessing\n",
    "\n",
    "We use two datasets, both sourced from DUO Open Education Data:\n",
    "- `inschrijvingen_wo.csv` (University Enrollments 2019–2023): contains the number of enrollments per academic year, broken down by gender.\n",
    "- `student_prognoses.csv` (Higher Education Projections 2017–2038): contains historical and predicted student numbers for both universities (WO) and higher professional education (HBO).\n",
    "\n",
    "**Preprocessing:**\n",
    "1. Load the CSV-files.\n",
    "2. Check for missing values.\n",
    "3. Verify that totals match the sums of the components (gender).\n",
    "4. Convert columns to the appropriate data types.\n"
   ]
  },
  {
   "cell_type": "code",
   "execution_count": 1,
   "id": "324b3dec",
   "metadata": {},
   "outputs": [
    {
     "ename": "ImportError",
     "evalue": "Missing optional dependency 'openpyxl'.  Use pip or conda to install openpyxl.",
     "output_type": "error",
     "traceback": [
      "\u001b[1;31m---------------------------------------------------------------------------\u001b[0m",
      "\u001b[1;31mModuleNotFoundError\u001b[0m                       Traceback (most recent call last)",
      "File \u001b[1;32m~\\anaconda3\\envs\\jupyterbook\\lib\\site-packages\\pandas\\compat\\_optional.py:135\u001b[0m, in \u001b[0;36mimport_optional_dependency\u001b[1;34m(name, extra, errors, min_version)\u001b[0m\n\u001b[0;32m    134\u001b[0m \u001b[38;5;28;01mtry\u001b[39;00m:\n\u001b[1;32m--> 135\u001b[0m     module \u001b[38;5;241m=\u001b[39m \u001b[43mimportlib\u001b[49m\u001b[38;5;241;43m.\u001b[39;49m\u001b[43mimport_module\u001b[49m\u001b[43m(\u001b[49m\u001b[43mname\u001b[49m\u001b[43m)\u001b[49m\n\u001b[0;32m    136\u001b[0m \u001b[38;5;28;01mexcept\u001b[39;00m \u001b[38;5;167;01mImportError\u001b[39;00m:\n",
      "File \u001b[1;32m~\\anaconda3\\envs\\jupyterbook\\lib\\importlib\\__init__.py:126\u001b[0m, in \u001b[0;36mimport_module\u001b[1;34m(name, package)\u001b[0m\n\u001b[0;32m    125\u001b[0m         level \u001b[38;5;241m+\u001b[39m\u001b[38;5;241m=\u001b[39m \u001b[38;5;241m1\u001b[39m\n\u001b[1;32m--> 126\u001b[0m \u001b[38;5;28;01mreturn\u001b[39;00m \u001b[43m_bootstrap\u001b[49m\u001b[38;5;241;43m.\u001b[39;49m\u001b[43m_gcd_import\u001b[49m\u001b[43m(\u001b[49m\u001b[43mname\u001b[49m\u001b[43m[\u001b[49m\u001b[43mlevel\u001b[49m\u001b[43m:\u001b[49m\u001b[43m]\u001b[49m\u001b[43m,\u001b[49m\u001b[43m \u001b[49m\u001b[43mpackage\u001b[49m\u001b[43m,\u001b[49m\u001b[43m \u001b[49m\u001b[43mlevel\u001b[49m\u001b[43m)\u001b[49m\n",
      "File \u001b[1;32m<frozen importlib._bootstrap>:1050\u001b[0m, in \u001b[0;36m_gcd_import\u001b[1;34m(name, package, level)\u001b[0m\n",
      "File \u001b[1;32m<frozen importlib._bootstrap>:1027\u001b[0m, in \u001b[0;36m_find_and_load\u001b[1;34m(name, import_)\u001b[0m\n",
      "File \u001b[1;32m<frozen importlib._bootstrap>:1004\u001b[0m, in \u001b[0;36m_find_and_load_unlocked\u001b[1;34m(name, import_)\u001b[0m\n",
      "\u001b[1;31mModuleNotFoundError\u001b[0m: No module named 'openpyxl'",
      "\nDuring handling of the above exception, another exception occurred:\n",
      "\u001b[1;31mImportError\u001b[0m                               Traceback (most recent call last)",
      "Cell \u001b[1;32mIn[1], line 5\u001b[0m\n\u001b[0;32m      3\u001b[0m \u001b[38;5;66;03m# Load data\u001b[39;00m\n\u001b[0;32m      4\u001b[0m registrations_wo \u001b[38;5;241m=\u001b[39m pd\u001b[38;5;241m.\u001b[39mread_csv(\u001b[38;5;124m'\u001b[39m\u001b[38;5;124m04.-inschrijvingen-wo-2024.csv\u001b[39m\u001b[38;5;124m'\u001b[39m, sep\u001b[38;5;241m=\u001b[39m\u001b[38;5;124m'\u001b[39m\u001b[38;5;124m;\u001b[39m\u001b[38;5;124m'\u001b[39m)\n\u001b[1;32m----> 5\u001b[0m student_predictions \u001b[38;5;241m=\u001b[39m \u001b[43mpd\u001b[49m\u001b[38;5;241;43m.\u001b[39;49m\u001b[43mread_excel\u001b[49m\u001b[43m(\u001b[49m\u001b[38;5;124;43m'\u001b[39;49m\u001b[38;5;124;43mstudentenprognoses-2025.xlsx\u001b[39;49m\u001b[38;5;124;43m'\u001b[39;49m\u001b[43m,\u001b[49m\u001b[43m \u001b[49m\u001b[43mheader\u001b[49m\u001b[38;5;241;43m=\u001b[39;49m\u001b[38;5;241;43m8\u001b[39;49m\u001b[43m)\u001b[49m\n\u001b[0;32m      7\u001b[0m \u001b[38;5;66;03m# Toon eerste rijen\u001b[39;00m\n\u001b[0;32m      8\u001b[0m registrations_wo\u001b[38;5;241m.\u001b[39mhead(), student_prognoses\u001b[38;5;241m.\u001b[39mhead()\n",
      "File \u001b[1;32m~\\anaconda3\\envs\\jupyterbook\\lib\\site-packages\\pandas\\io\\excel\\_base.py:495\u001b[0m, in \u001b[0;36mread_excel\u001b[1;34m(io, sheet_name, header, names, index_col, usecols, dtype, engine, converters, true_values, false_values, skiprows, nrows, na_values, keep_default_na, na_filter, verbose, parse_dates, date_parser, date_format, thousands, decimal, comment, skipfooter, storage_options, dtype_backend, engine_kwargs)\u001b[0m\n\u001b[0;32m    493\u001b[0m \u001b[38;5;28;01mif\u001b[39;00m \u001b[38;5;129;01mnot\u001b[39;00m \u001b[38;5;28misinstance\u001b[39m(io, ExcelFile):\n\u001b[0;32m    494\u001b[0m     should_close \u001b[38;5;241m=\u001b[39m \u001b[38;5;28;01mTrue\u001b[39;00m\n\u001b[1;32m--> 495\u001b[0m     io \u001b[38;5;241m=\u001b[39m \u001b[43mExcelFile\u001b[49m\u001b[43m(\u001b[49m\n\u001b[0;32m    496\u001b[0m \u001b[43m        \u001b[49m\u001b[43mio\u001b[49m\u001b[43m,\u001b[49m\n\u001b[0;32m    497\u001b[0m \u001b[43m        \u001b[49m\u001b[43mstorage_options\u001b[49m\u001b[38;5;241;43m=\u001b[39;49m\u001b[43mstorage_options\u001b[49m\u001b[43m,\u001b[49m\n\u001b[0;32m    498\u001b[0m \u001b[43m        \u001b[49m\u001b[43mengine\u001b[49m\u001b[38;5;241;43m=\u001b[39;49m\u001b[43mengine\u001b[49m\u001b[43m,\u001b[49m\n\u001b[0;32m    499\u001b[0m \u001b[43m        \u001b[49m\u001b[43mengine_kwargs\u001b[49m\u001b[38;5;241;43m=\u001b[39;49m\u001b[43mengine_kwargs\u001b[49m\u001b[43m,\u001b[49m\n\u001b[0;32m    500\u001b[0m \u001b[43m    \u001b[49m\u001b[43m)\u001b[49m\n\u001b[0;32m    501\u001b[0m \u001b[38;5;28;01melif\u001b[39;00m engine \u001b[38;5;129;01mand\u001b[39;00m engine \u001b[38;5;241m!=\u001b[39m io\u001b[38;5;241m.\u001b[39mengine:\n\u001b[0;32m    502\u001b[0m     \u001b[38;5;28;01mraise\u001b[39;00m \u001b[38;5;167;01mValueError\u001b[39;00m(\n\u001b[0;32m    503\u001b[0m         \u001b[38;5;124m\"\u001b[39m\u001b[38;5;124mEngine should not be specified when passing \u001b[39m\u001b[38;5;124m\"\u001b[39m\n\u001b[0;32m    504\u001b[0m         \u001b[38;5;124m\"\u001b[39m\u001b[38;5;124man ExcelFile - ExcelFile already has the engine set\u001b[39m\u001b[38;5;124m\"\u001b[39m\n\u001b[0;32m    505\u001b[0m     )\n",
      "File \u001b[1;32m~\\anaconda3\\envs\\jupyterbook\\lib\\site-packages\\pandas\\io\\excel\\_base.py:1567\u001b[0m, in \u001b[0;36mExcelFile.__init__\u001b[1;34m(self, path_or_buffer, engine, storage_options, engine_kwargs)\u001b[0m\n\u001b[0;32m   1564\u001b[0m \u001b[38;5;28mself\u001b[39m\u001b[38;5;241m.\u001b[39mengine \u001b[38;5;241m=\u001b[39m engine\n\u001b[0;32m   1565\u001b[0m \u001b[38;5;28mself\u001b[39m\u001b[38;5;241m.\u001b[39mstorage_options \u001b[38;5;241m=\u001b[39m storage_options\n\u001b[1;32m-> 1567\u001b[0m \u001b[38;5;28mself\u001b[39m\u001b[38;5;241m.\u001b[39m_reader \u001b[38;5;241m=\u001b[39m \u001b[38;5;28;43mself\u001b[39;49m\u001b[38;5;241;43m.\u001b[39;49m\u001b[43m_engines\u001b[49m\u001b[43m[\u001b[49m\u001b[43mengine\u001b[49m\u001b[43m]\u001b[49m\u001b[43m(\u001b[49m\n\u001b[0;32m   1568\u001b[0m \u001b[43m    \u001b[49m\u001b[38;5;28;43mself\u001b[39;49m\u001b[38;5;241;43m.\u001b[39;49m\u001b[43m_io\u001b[49m\u001b[43m,\u001b[49m\n\u001b[0;32m   1569\u001b[0m \u001b[43m    \u001b[49m\u001b[43mstorage_options\u001b[49m\u001b[38;5;241;43m=\u001b[39;49m\u001b[43mstorage_options\u001b[49m\u001b[43m,\u001b[49m\n\u001b[0;32m   1570\u001b[0m \u001b[43m    \u001b[49m\u001b[43mengine_kwargs\u001b[49m\u001b[38;5;241;43m=\u001b[39;49m\u001b[43mengine_kwargs\u001b[49m\u001b[43m,\u001b[49m\n\u001b[0;32m   1571\u001b[0m \u001b[43m\u001b[49m\u001b[43m)\u001b[49m\n",
      "File \u001b[1;32m~\\anaconda3\\envs\\jupyterbook\\lib\\site-packages\\pandas\\io\\excel\\_openpyxl.py:552\u001b[0m, in \u001b[0;36mOpenpyxlReader.__init__\u001b[1;34m(self, filepath_or_buffer, storage_options, engine_kwargs)\u001b[0m\n\u001b[0;32m    534\u001b[0m \u001b[38;5;129m@doc\u001b[39m(storage_options\u001b[38;5;241m=\u001b[39m_shared_docs[\u001b[38;5;124m\"\u001b[39m\u001b[38;5;124mstorage_options\u001b[39m\u001b[38;5;124m\"\u001b[39m])\n\u001b[0;32m    535\u001b[0m \u001b[38;5;28;01mdef\u001b[39;00m\u001b[38;5;250m \u001b[39m\u001b[38;5;21m__init__\u001b[39m(\n\u001b[0;32m    536\u001b[0m     \u001b[38;5;28mself\u001b[39m,\n\u001b[1;32m   (...)\u001b[0m\n\u001b[0;32m    539\u001b[0m     engine_kwargs: \u001b[38;5;28mdict\u001b[39m \u001b[38;5;241m|\u001b[39m \u001b[38;5;28;01mNone\u001b[39;00m \u001b[38;5;241m=\u001b[39m \u001b[38;5;28;01mNone\u001b[39;00m,\n\u001b[0;32m    540\u001b[0m ) \u001b[38;5;241m-\u001b[39m\u001b[38;5;241m>\u001b[39m \u001b[38;5;28;01mNone\u001b[39;00m:\n\u001b[0;32m    541\u001b[0m \u001b[38;5;250m    \u001b[39m\u001b[38;5;124;03m\"\"\"\u001b[39;00m\n\u001b[0;32m    542\u001b[0m \u001b[38;5;124;03m    Reader using openpyxl engine.\u001b[39;00m\n\u001b[0;32m    543\u001b[0m \n\u001b[1;32m   (...)\u001b[0m\n\u001b[0;32m    550\u001b[0m \u001b[38;5;124;03m        Arbitrary keyword arguments passed to excel engine.\u001b[39;00m\n\u001b[0;32m    551\u001b[0m \u001b[38;5;124;03m    \"\"\"\u001b[39;00m\n\u001b[1;32m--> 552\u001b[0m     \u001b[43mimport_optional_dependency\u001b[49m\u001b[43m(\u001b[49m\u001b[38;5;124;43m\"\u001b[39;49m\u001b[38;5;124;43mopenpyxl\u001b[39;49m\u001b[38;5;124;43m\"\u001b[39;49m\u001b[43m)\u001b[49m\n\u001b[0;32m    553\u001b[0m     \u001b[38;5;28msuper\u001b[39m()\u001b[38;5;241m.\u001b[39m\u001b[38;5;21m__init__\u001b[39m(\n\u001b[0;32m    554\u001b[0m         filepath_or_buffer,\n\u001b[0;32m    555\u001b[0m         storage_options\u001b[38;5;241m=\u001b[39mstorage_options,\n\u001b[0;32m    556\u001b[0m         engine_kwargs\u001b[38;5;241m=\u001b[39mengine_kwargs,\n\u001b[0;32m    557\u001b[0m     )\n",
      "File \u001b[1;32m~\\anaconda3\\envs\\jupyterbook\\lib\\site-packages\\pandas\\compat\\_optional.py:138\u001b[0m, in \u001b[0;36mimport_optional_dependency\u001b[1;34m(name, extra, errors, min_version)\u001b[0m\n\u001b[0;32m    136\u001b[0m \u001b[38;5;28;01mexcept\u001b[39;00m \u001b[38;5;167;01mImportError\u001b[39;00m:\n\u001b[0;32m    137\u001b[0m     \u001b[38;5;28;01mif\u001b[39;00m errors \u001b[38;5;241m==\u001b[39m \u001b[38;5;124m\"\u001b[39m\u001b[38;5;124mraise\u001b[39m\u001b[38;5;124m\"\u001b[39m:\n\u001b[1;32m--> 138\u001b[0m         \u001b[38;5;28;01mraise\u001b[39;00m \u001b[38;5;167;01mImportError\u001b[39;00m(msg)\n\u001b[0;32m    139\u001b[0m     \u001b[38;5;28;01mreturn\u001b[39;00m \u001b[38;5;28;01mNone\u001b[39;00m\n\u001b[0;32m    141\u001b[0m \u001b[38;5;66;03m# Handle submodules: if we have submodule, grab parent module from sys.modules\u001b[39;00m\n",
      "\u001b[1;31mImportError\u001b[0m: Missing optional dependency 'openpyxl'.  Use pip or conda to install openpyxl."
     ]
    }
   ],
   "source": [
    "\n",
    "import pandas as pd\n",
    "\n",
    "# Load data\n",
    "registrations_wo = pd.read_csv('04.-inschrijvingen-wo-2024.csv', sep=';')\n",
    "student_predictions = pd.read_excel('studentenprognoses-2025.xlsx', header=8)\n",
    "\n",
    "# Toon eerste rijen\n",
    "registrations_wo.head(), student_prognoses.head()\n"
   ]
  },
  {
   "cell_type": "code",
   "execution_count": 31,
   "id": "9477bc17",
   "metadata": {},
   "outputs": [
    {
     "name": "stdout",
     "output_type": "stream",
     "text": [
      "Check for NA in WO: PROVINCIE                  0\n",
      "GEMEENTENUMMER             0\n",
      "GEMEENTENAAM               0\n",
      "SOORT INSTELLING           0\n",
      "TYPE HOGER ONDERWIJS       0\n",
      "INSTELLINGSCODE ACTUEEL    0\n",
      "INSTELLINGSNAAM ACTUEEL    0\n",
      "ONDERDEEL                  0\n",
      "SUBONDERDEEL               0\n",
      "OPLEIDINGSCODE ACTUEEL     0\n",
      "OPLEIDINGSNAAM ACTUEEL     0\n",
      "OPLEIDINGSVORM             0\n",
      "GESLACHT                   0\n",
      "2020                       0\n",
      "2021                       0\n",
      "2022                       0\n",
      "2023                       0\n",
      "2024                       0\n",
      "dtype: int64\n",
      "Check for NA in predictions: Unnamed: 0          36\n",
      "Gebruikte Primos     4\n",
      "2024                22\n",
      "dtype: int64\n"
     ]
    },
    {
     "ename": "KeyError",
     "evalue": "'WO'",
     "output_type": "error",
     "traceback": [
      "\u001b[1;31m---------------------------------------------------------------------------\u001b[0m",
      "\u001b[1;31mKeyError\u001b[0m                                  Traceback (most recent call last)",
      "File \u001b[1;32m~\\anaconda3\\Lib\\site-packages\\pandas\\core\\indexes\\base.py:3805\u001b[0m, in \u001b[0;36mIndex.get_loc\u001b[1;34m(self, key)\u001b[0m\n\u001b[0;32m   3804\u001b[0m \u001b[38;5;28;01mtry\u001b[39;00m:\n\u001b[1;32m-> 3805\u001b[0m     \u001b[38;5;28;01mreturn\u001b[39;00m \u001b[38;5;28mself\u001b[39m\u001b[38;5;241m.\u001b[39m_engine\u001b[38;5;241m.\u001b[39mget_loc(casted_key)\n\u001b[0;32m   3806\u001b[0m \u001b[38;5;28;01mexcept\u001b[39;00m \u001b[38;5;167;01mKeyError\u001b[39;00m \u001b[38;5;28;01mas\u001b[39;00m err:\n",
      "File \u001b[1;32mindex.pyx:167\u001b[0m, in \u001b[0;36mpandas._libs.index.IndexEngine.get_loc\u001b[1;34m()\u001b[0m\n",
      "File \u001b[1;32mindex.pyx:196\u001b[0m, in \u001b[0;36mpandas._libs.index.IndexEngine.get_loc\u001b[1;34m()\u001b[0m\n",
      "File \u001b[1;32mpandas\\\\_libs\\\\hashtable_class_helper.pxi:7081\u001b[0m, in \u001b[0;36mpandas._libs.hashtable.PyObjectHashTable.get_item\u001b[1;34m()\u001b[0m\n",
      "File \u001b[1;32mpandas\\\\_libs\\\\hashtable_class_helper.pxi:7089\u001b[0m, in \u001b[0;36mpandas._libs.hashtable.PyObjectHashTable.get_item\u001b[1;34m()\u001b[0m\n",
      "\u001b[1;31mKeyError\u001b[0m: 'WO'",
      "\nThe above exception was the direct cause of the following exception:\n",
      "\u001b[1;31mKeyError\u001b[0m                                  Traceback (most recent call last)",
      "Cell \u001b[1;32mIn[31], line 8\u001b[0m\n\u001b[0;32m      6\u001b[0m \u001b[38;5;28mprint\u001b[39m(\u001b[38;5;124m'\u001b[39m\u001b[38;5;124mCheck for NA in predictions:\u001b[39m\u001b[38;5;124m'\u001b[39m, student_predictions\u001b[38;5;241m.\u001b[39misna()\u001b[38;5;241m.\u001b[39msum())\n\u001b[0;32m      7\u001b[0m \u001b[38;5;66;03m# Check that WO+HBO == Total\u001b[39;00m\n\u001b[1;32m----> 8\u001b[0m student_predictions[\u001b[38;5;124m'\u001b[39m\u001b[38;5;124mTotal_check\u001b[39m\u001b[38;5;124m'\u001b[39m] \u001b[38;5;241m=\u001b[39m student_predictions[\u001b[38;5;124m'\u001b[39m\u001b[38;5;124mWO\u001b[39m\u001b[38;5;124m'\u001b[39m] \u001b[38;5;241m+\u001b[39m student_predictions[\u001b[38;5;124m'\u001b[39m\u001b[38;5;124mHBO\u001b[39m\u001b[38;5;124m'\u001b[39m]\n\u001b[0;32m      9\u001b[0m \u001b[38;5;66;03m# Add Total column from Total_check\u001b[39;00m\n\u001b[0;32m     10\u001b[0m student_predictions[\u001b[38;5;124m'\u001b[39m\u001b[38;5;124mTotal\u001b[39m\u001b[38;5;124m'\u001b[39m] \u001b[38;5;241m=\u001b[39m student_predictions[\u001b[38;5;124m'\u001b[39m\u001b[38;5;124mTotal_check\u001b[39m\u001b[38;5;124m'\u001b[39m]\n",
      "File \u001b[1;32m~\\anaconda3\\Lib\\site-packages\\pandas\\core\\frame.py:4102\u001b[0m, in \u001b[0;36mDataFrame.__getitem__\u001b[1;34m(self, key)\u001b[0m\n\u001b[0;32m   4100\u001b[0m \u001b[38;5;28;01mif\u001b[39;00m \u001b[38;5;28mself\u001b[39m\u001b[38;5;241m.\u001b[39mcolumns\u001b[38;5;241m.\u001b[39mnlevels \u001b[38;5;241m>\u001b[39m \u001b[38;5;241m1\u001b[39m:\n\u001b[0;32m   4101\u001b[0m     \u001b[38;5;28;01mreturn\u001b[39;00m \u001b[38;5;28mself\u001b[39m\u001b[38;5;241m.\u001b[39m_getitem_multilevel(key)\n\u001b[1;32m-> 4102\u001b[0m indexer \u001b[38;5;241m=\u001b[39m \u001b[38;5;28mself\u001b[39m\u001b[38;5;241m.\u001b[39mcolumns\u001b[38;5;241m.\u001b[39mget_loc(key)\n\u001b[0;32m   4103\u001b[0m \u001b[38;5;28;01mif\u001b[39;00m is_integer(indexer):\n\u001b[0;32m   4104\u001b[0m     indexer \u001b[38;5;241m=\u001b[39m [indexer]\n",
      "File \u001b[1;32m~\\anaconda3\\Lib\\site-packages\\pandas\\core\\indexes\\base.py:3812\u001b[0m, in \u001b[0;36mIndex.get_loc\u001b[1;34m(self, key)\u001b[0m\n\u001b[0;32m   3807\u001b[0m     \u001b[38;5;28;01mif\u001b[39;00m \u001b[38;5;28misinstance\u001b[39m(casted_key, \u001b[38;5;28mslice\u001b[39m) \u001b[38;5;129;01mor\u001b[39;00m (\n\u001b[0;32m   3808\u001b[0m         \u001b[38;5;28misinstance\u001b[39m(casted_key, abc\u001b[38;5;241m.\u001b[39mIterable)\n\u001b[0;32m   3809\u001b[0m         \u001b[38;5;129;01mand\u001b[39;00m \u001b[38;5;28many\u001b[39m(\u001b[38;5;28misinstance\u001b[39m(x, \u001b[38;5;28mslice\u001b[39m) \u001b[38;5;28;01mfor\u001b[39;00m x \u001b[38;5;129;01min\u001b[39;00m casted_key)\n\u001b[0;32m   3810\u001b[0m     ):\n\u001b[0;32m   3811\u001b[0m         \u001b[38;5;28;01mraise\u001b[39;00m InvalidIndexError(key)\n\u001b[1;32m-> 3812\u001b[0m     \u001b[38;5;28;01mraise\u001b[39;00m \u001b[38;5;167;01mKeyError\u001b[39;00m(key) \u001b[38;5;28;01mfrom\u001b[39;00m \u001b[38;5;21;01merr\u001b[39;00m\n\u001b[0;32m   3813\u001b[0m \u001b[38;5;28;01mexcept\u001b[39;00m \u001b[38;5;167;01mTypeError\u001b[39;00m:\n\u001b[0;32m   3814\u001b[0m     \u001b[38;5;66;03m# If we have a listlike key, _check_indexing_error will raise\u001b[39;00m\n\u001b[0;32m   3815\u001b[0m     \u001b[38;5;66;03m#  InvalidIndexError. Otherwise we fall through and re-raise\u001b[39;00m\n\u001b[0;32m   3816\u001b[0m     \u001b[38;5;66;03m#  the TypeError.\u001b[39;00m\n\u001b[0;32m   3817\u001b[0m     \u001b[38;5;28mself\u001b[39m\u001b[38;5;241m.\u001b[39m_check_indexing_error(key)\n",
      "\u001b[1;31mKeyError\u001b[0m: 'WO'"
     ]
    }
   ],
   "source": [
    "# Preprocessing WO registrations\n",
    "print('Check for NA in WO:', registrations_wo.isna().sum())\n",
    "# Note: There is no 'Men' or 'Women' column in inscriptions_wo, so this check has been removed.\n",
    "\n",
    "# Preprocessing predictions\n",
    "print('Check for NA in predictions:', student_predictions.isna().sum())\n",
    "# Check that WO+HBO == Total\n",
    "student_predictions['Total_check'] = student_predictions['WO'] + student_predictions['HBO']\n",
    "# Add Total column from Total_check\n",
    "student_predictions['Total'] = student_predictions['Total_check']\n",
    "student_predictions.drop(columns=['Total_check'], inplace=True)\n",
    "\n",
    "# Data types\n",
    "inscriptions_wo.dtypes, student_predictions.dtypes\n"
   ]
  },
  {
   "cell_type": "markdown",
   "id": "11881fc0",
   "metadata": {},
   "source": [
    "\n",
    "## Perspective 1: The Benefits of Enrollment Growth.\n",
    "This perspective focuses on the positive impact of the growth in student enrollment in Dutch higher education. You can highlight benefits such as improved access to higher education, increased diversity, and a more educated workforce.\n",
    "\n",
    "### Key Argument:\n",
    "The growth in the number of students enrolling in Dutch higher education institutions indicates improved accessibility and reflects rising societal demand for higher qualifications. This growth not only expands opportunities for education but also leads to a more educated labor force, increased cultural diversity, and broader global knowledge exchange.\n",
    "\n",
    "### Sub-arguments:\n",
    "#### Improved Access to Higher Education:\n",
    "The substantial increase in student enrollments is likely a result of policies making higher education more accessible to a larger number of students. Programs like scholarships, financial aid, and outreach initiatives have played a significant role in attracting students from various backgrounds."
   ]
  },
  {
   "cell_type": "code",
   "execution_count": 70,
   "id": "aab14cd8-71b0-49be-8ab0-ed5b6264ef3c",
   "metadata": {},
   "outputs": [],
   "source": [
    "# Visualisation \n",
    "#A line plot showing the growth in enrollment numbers over the years (from the dataset Inschrijvingen WO 2019-2023), \n",
    "#possibly segmented by province or university. This will illustrate the increase in enrollments year over year."
   ]
  },
  {
   "cell_type": "markdown",
   "id": "38fc92ca-39a5-4918-8de0-118b02203310",
   "metadata": {},
   "source": [
    "#### Increased Cultural Diversity:\n",
    "The rise in international students (particularly those from non-EU countries) contributes to a more diverse academic environment. This diversity enriches the educational experience by fostering cultural exchange and offering global perspectives within local contexts.\n"
   ]
  },
  {
   "cell_type": "code",
   "execution_count": 73,
   "id": "a201b2d8-6ac5-4f11-a68d-cc2baed586ec",
   "metadata": {},
   "outputs": [],
   "source": [
    "# Visualisation\n",
    "# A stacked bar chart showing the breakdown of students by nationality (Dutch, EU, non-EU) \n",
    "# over time (from the dataset Herkomst). This visualization would reveal the increasing share of international students.\n"
   ]
  },
  {
   "cell_type": "markdown",
   "id": "7f396d6c-7ce4-4a5c-be53-ca7b164970be",
   "metadata": {},
   "source": [
    "#### Growth of a Highly Educated Workforce:\n",
    "With more students graduating from universities and applied sciences institutions, the Dutch labor market is increasingly populated by individuals with advanced qualifications. This trend is essential for addressing skills gaps in key sectors such as healthcare, technology, and education.\n"
   ]
  },
  {
   "cell_type": "code",
   "execution_count": 76,
   "id": "e62ee9bc-2ab5-47d1-a261-e09491c171fa",
   "metadata": {},
   "outputs": [],
   "source": [
    "# Visualization:\n",
    "# A bar chart showing the number of graduates per study program over the years. \n",
    "# For instance, you could compare STEM fields and social sciences to demonstrate where the largest growth in graduates is occurring.\n"
   ]
  },
  {
   "cell_type": "markdown",
   "id": "d31a72b0-6511-49a6-a74a-0b3425ea9d2f",
   "metadata": {},
   "source": [
    "#### Relevant Data Variables:\n",
    "- Inschrijvingen WO 2019-2023 dataset for tracking total student enrollment across years.\n",
    "- Herkomst dataset to explore the national origin of students, especially international enrollments."
   ]
  },
  {
   "cell_type": "code",
   "execution_count": 81,
   "id": "9a23ca8a",
   "metadata": {},
   "outputs": [
    {
     "ename": "KeyError",
     "evalue": "'Jaar'",
     "output_type": "error",
     "traceback": [
      "\u001b[1;31m---------------------------------------------------------------------------\u001b[0m",
      "\u001b[1;31mKeyError\u001b[0m                                  Traceback (most recent call last)",
      "File \u001b[1;32m~\\anaconda3\\Lib\\site-packages\\pandas\\core\\indexes\\base.py:3805\u001b[0m, in \u001b[0;36mIndex.get_loc\u001b[1;34m(self, key)\u001b[0m\n\u001b[0;32m   3804\u001b[0m \u001b[38;5;28;01mtry\u001b[39;00m:\n\u001b[1;32m-> 3805\u001b[0m     \u001b[38;5;28;01mreturn\u001b[39;00m \u001b[38;5;28mself\u001b[39m\u001b[38;5;241m.\u001b[39m_engine\u001b[38;5;241m.\u001b[39mget_loc(casted_key)\n\u001b[0;32m   3806\u001b[0m \u001b[38;5;28;01mexcept\u001b[39;00m \u001b[38;5;167;01mKeyError\u001b[39;00m \u001b[38;5;28;01mas\u001b[39;00m err:\n",
      "File \u001b[1;32mindex.pyx:167\u001b[0m, in \u001b[0;36mpandas._libs.index.IndexEngine.get_loc\u001b[1;34m()\u001b[0m\n",
      "File \u001b[1;32mindex.pyx:196\u001b[0m, in \u001b[0;36mpandas._libs.index.IndexEngine.get_loc\u001b[1;34m()\u001b[0m\n",
      "File \u001b[1;32mpandas\\\\_libs\\\\hashtable_class_helper.pxi:7081\u001b[0m, in \u001b[0;36mpandas._libs.hashtable.PyObjectHashTable.get_item\u001b[1;34m()\u001b[0m\n",
      "File \u001b[1;32mpandas\\\\_libs\\\\hashtable_class_helper.pxi:7089\u001b[0m, in \u001b[0;36mpandas._libs.hashtable.PyObjectHashTable.get_item\u001b[1;34m()\u001b[0m\n",
      "\u001b[1;31mKeyError\u001b[0m: 'Jaar'",
      "\nThe above exception was the direct cause of the following exception:\n",
      "\u001b[1;31mKeyError\u001b[0m                                  Traceback (most recent call last)",
      "Cell \u001b[1;32mIn[81], line 5\u001b[0m\n\u001b[0;32m      2\u001b[0m \u001b[38;5;28;01mimport\u001b[39;00m \u001b[38;5;21;01mmatplotlib\u001b[39;00m\u001b[38;5;21;01m.\u001b[39;00m\u001b[38;5;21;01mpyplot\u001b[39;00m \u001b[38;5;28;01mas\u001b[39;00m \u001b[38;5;21;01mplt\u001b[39;00m\n\u001b[0;32m      4\u001b[0m plt\u001b[38;5;241m.\u001b[39mfigure(figsize\u001b[38;5;241m=\u001b[39m(\u001b[38;5;241m8\u001b[39m,\u001b[38;5;241m5\u001b[39m))\n\u001b[1;32m----> 5\u001b[0m plt\u001b[38;5;241m.\u001b[39mplot(inschrijvingen_wo[\u001b[38;5;124m'\u001b[39m\u001b[38;5;124mJaar\u001b[39m\u001b[38;5;124m'\u001b[39m], inschrijvingen_wo[\u001b[38;5;124m'\u001b[39m\u001b[38;5;124mTotaal\u001b[39m\u001b[38;5;124m'\u001b[39m], marker\u001b[38;5;241m=\u001b[39m\u001b[38;5;124m'\u001b[39m\u001b[38;5;124mo\u001b[39m\u001b[38;5;124m'\u001b[39m, color\u001b[38;5;241m=\u001b[39m\u001b[38;5;124m'\u001b[39m\u001b[38;5;124mteal\u001b[39m\u001b[38;5;124m'\u001b[39m)\n\u001b[0;32m      6\u001b[0m plt\u001b[38;5;241m.\u001b[39mtitle(\u001b[38;5;124m\"\u001b[39m\u001b[38;5;124mTotaal aantal inschrijvingen WO per studiejaar (2019–2023)\u001b[39m\u001b[38;5;124m\"\u001b[39m)\n\u001b[0;32m      7\u001b[0m plt\u001b[38;5;241m.\u001b[39mxlabel(\u001b[38;5;124m\"\u001b[39m\u001b[38;5;124mStudiejaar\u001b[39m\u001b[38;5;124m\"\u001b[39m)\n",
      "File \u001b[1;32m~\\anaconda3\\Lib\\site-packages\\pandas\\core\\frame.py:4102\u001b[0m, in \u001b[0;36mDataFrame.__getitem__\u001b[1;34m(self, key)\u001b[0m\n\u001b[0;32m   4100\u001b[0m \u001b[38;5;28;01mif\u001b[39;00m \u001b[38;5;28mself\u001b[39m\u001b[38;5;241m.\u001b[39mcolumns\u001b[38;5;241m.\u001b[39mnlevels \u001b[38;5;241m>\u001b[39m \u001b[38;5;241m1\u001b[39m:\n\u001b[0;32m   4101\u001b[0m     \u001b[38;5;28;01mreturn\u001b[39;00m \u001b[38;5;28mself\u001b[39m\u001b[38;5;241m.\u001b[39m_getitem_multilevel(key)\n\u001b[1;32m-> 4102\u001b[0m indexer \u001b[38;5;241m=\u001b[39m \u001b[38;5;28mself\u001b[39m\u001b[38;5;241m.\u001b[39mcolumns\u001b[38;5;241m.\u001b[39mget_loc(key)\n\u001b[0;32m   4103\u001b[0m \u001b[38;5;28;01mif\u001b[39;00m is_integer(indexer):\n\u001b[0;32m   4104\u001b[0m     indexer \u001b[38;5;241m=\u001b[39m [indexer]\n",
      "File \u001b[1;32m~\\anaconda3\\Lib\\site-packages\\pandas\\core\\indexes\\base.py:3812\u001b[0m, in \u001b[0;36mIndex.get_loc\u001b[1;34m(self, key)\u001b[0m\n\u001b[0;32m   3807\u001b[0m     \u001b[38;5;28;01mif\u001b[39;00m \u001b[38;5;28misinstance\u001b[39m(casted_key, \u001b[38;5;28mslice\u001b[39m) \u001b[38;5;129;01mor\u001b[39;00m (\n\u001b[0;32m   3808\u001b[0m         \u001b[38;5;28misinstance\u001b[39m(casted_key, abc\u001b[38;5;241m.\u001b[39mIterable)\n\u001b[0;32m   3809\u001b[0m         \u001b[38;5;129;01mand\u001b[39;00m \u001b[38;5;28many\u001b[39m(\u001b[38;5;28misinstance\u001b[39m(x, \u001b[38;5;28mslice\u001b[39m) \u001b[38;5;28;01mfor\u001b[39;00m x \u001b[38;5;129;01min\u001b[39;00m casted_key)\n\u001b[0;32m   3810\u001b[0m     ):\n\u001b[0;32m   3811\u001b[0m         \u001b[38;5;28;01mraise\u001b[39;00m InvalidIndexError(key)\n\u001b[1;32m-> 3812\u001b[0m     \u001b[38;5;28;01mraise\u001b[39;00m \u001b[38;5;167;01mKeyError\u001b[39;00m(key) \u001b[38;5;28;01mfrom\u001b[39;00m \u001b[38;5;21;01merr\u001b[39;00m\n\u001b[0;32m   3813\u001b[0m \u001b[38;5;28;01mexcept\u001b[39;00m \u001b[38;5;167;01mTypeError\u001b[39;00m:\n\u001b[0;32m   3814\u001b[0m     \u001b[38;5;66;03m# If we have a listlike key, _check_indexing_error will raise\u001b[39;00m\n\u001b[0;32m   3815\u001b[0m     \u001b[38;5;66;03m#  InvalidIndexError. Otherwise we fall through and re-raise\u001b[39;00m\n\u001b[0;32m   3816\u001b[0m     \u001b[38;5;66;03m#  the TypeError.\u001b[39;00m\n\u001b[0;32m   3817\u001b[0m     \u001b[38;5;28mself\u001b[39m\u001b[38;5;241m.\u001b[39m_check_indexing_error(key)\n",
      "\u001b[1;31mKeyError\u001b[0m: 'Jaar'"
     ]
    },
    {
     "data": {
      "text/plain": [
       "<Figure size 800x500 with 0 Axes>"
      ]
     },
     "metadata": {},
     "output_type": "display_data"
    }
   ],
   "source": [
    "# Dit is niet van mij (Sarah)\n",
    "import matplotlib.pyplot as plt\n",
    "\n",
    "plt.figure(figsize=(8,5))\n",
    "plt.plot(inschrijvingen_wo['Jaar'], inschrijvingen_wo['Totaal'], marker='o', color='teal')\n",
    "plt.title(\"Totaal aantal inschrijvingen WO per studiejaar (2019–2023)\")\n",
    "plt.xlabel(\"Studiejaar\")\n",
    "plt.ylabel(\"Aantal inschrijvingen\")\n",
    "plt.grid(True)\n",
    "plt.show()\n"
   ]
  },
  {
   "cell_type": "markdown",
   "id": "cf9feb7f",
   "metadata": {},
   "source": [
    "### Verdeling naar geslacht\n",
    "Onderstaande figuren tonen zowel de totaalverdeling als per jaar."
   ]
  },
  {
   "cell_type": "code",
   "execution_count": null,
   "id": "539e254c",
   "metadata": {},
   "outputs": [],
   "source": [
    "\n",
    "plt.figure(figsize=(6,4))\n",
    "plt.bar(['Mannen', 'Vrouwen'],\n",
    "        [inschrijvingen_wo['Mannen'].sum(), inschrijvingen_wo['Vrouwen'].sum()],\n",
    "        color=['steelblue', 'salmon'])\n",
    "plt.title(\"Totaal WO-inschrijvingen 2019–2023 naar geslacht\")\n",
    "plt.ylabel(\"Aantal inschrijvingen\")\n",
    "plt.show()\n"
   ]
  },
  {
   "cell_type": "code",
   "execution_count": null,
   "id": "49b233bc",
   "metadata": {},
   "outputs": [],
   "source": [
    "\n",
    "plt.figure(figsize=(8,5))\n",
    "plt.bar(inschrijvingen_wo['Jaar'], inschrijvingen_wo['Mannen'], label='Mannen', color='steelblue')\n",
    "plt.bar(inschrijvingen_wo['Jaar'], inschrijvingen_wo['Vrouwen'], bottom=inschrijvingen_wo['Mannen'],\n",
    "        label='Vrouwen', color='salmon')\n",
    "plt.title(\"WO-inschrijvingen 2019–2023 naar geslacht per jaar\")\n",
    "plt.xlabel(\"Studiejaar\")\n",
    "plt.ylabel(\"Aantal inschrijvingen\")\n",
    "plt.legend()\n",
    "plt.show()\n"
   ]
  },
  {
   "cell_type": "markdown",
   "id": "b29fd95d",
   "metadata": {},
   "source": [
    "## Perspective 2: The Challenges of Enrollment Growth\n",
    "\n",
    "### Key Argument:\n",
    "Although the growth in student enrollments signifies broader educational opportunities, it also places significant pressure on the education system. Increased enrollment is straining infrastructure, elevating student-teacher ratios, and exacerbating housing shortages, all of which threaten the quality of education and student well-being.\n",
    "\n",
    "### Sub-arguments:\n",
    "\n",
    "#### Overburdened Infrastructure and Resources:\n",
    "As the number of students grows, the physical and human resources available to universities are being stretched thin. Universities face challenges in maintaining adequate classroom space, teaching staff, and facilities. This results in larger classes and fewer resources per student.\n"
   ]
  },
  {
   "cell_type": "code",
   "execution_count": 99,
   "id": "c1bf1c05-c7cb-4f41-ab3b-cdbbbc8858b9",
   "metadata": {},
   "outputs": [],
   "source": [
    "# **Visualization:**\n",
    "# A line plot showing the relationship between student enrollments and the number of teaching staff or classrooms (if available). \n",
    "# You could use data from the **Aantallen en prognoses ho** dataset to track the projected enrollments and compare them to current infrastructure data."
   ]
  },
  {
   "cell_type": "markdown",
   "id": "c3d25a6d-e2cf-4af6-b0b3-770a910725e1",
   "metadata": {},
   "source": [
    "#### Decline in Educational Quality:\n",
    "The rapid increase in student numbers may compromise educational quality. The student-to-teacher ratio has likely increased, \n",
    "reducing the level of individualized attention students receive, which could impact learning outcomes and overall satisfaction."
   ]
  },
  {
   "cell_type": "code",
   "execution_count": 102,
   "id": "79dcdb68-e6a1-45eb-816b-fbc7dcc37cd2",
   "metadata": {},
   "outputs": [],
   "source": [
    "# Visualization:\n",
    "# A stacked bar chart showing the trend in the student-to-teacher ratio, ideally for specific study programs or universities. \n",
    "# This would highlight how increasing enrollments are correlating with a higher number of students per instructor."
   ]
  },
  {
   "cell_type": "markdown",
   "id": "0ec24ea5-bd51-45e7-893e-2e7b4237583d",
   "metadata": {},
   "source": [
    "#### Student Housing Shortage:\n",
    "The growing number of students, particularly in larger cities like Amsterdam and Rotterdam, has intensified the demand for student housing. The housing market has been unable to keep pace with this demand, leading to rising rents and a lack of available accommodation for students."
   ]
  },
  {
   "cell_type": "code",
   "execution_count": 105,
   "id": "2e8c5145-7128-4abb-8f8d-a52dffb26f02",
   "metadata": {},
   "outputs": [],
   "source": [
    "# **Visualization:**\n",
    "# An area chart or line plot comparing the number of enrollments to the number of available student accommodations (if such data is available). \n",
    "# This will show how student housing availability is not keeping up with enrollment growth."
   ]
  },
  {
   "cell_type": "markdown",
   "id": "a702270f-bf48-4b9a-97b9-2526598befab",
   "metadata": {},
   "source": [
    "### Relevant Data Variables:\n",
    "- **Instroom_RR** (Expected Enrollment) from the **Aantallen en prognoses ho** dataset can be used to project future enrollment and compare it with the availability of resources.\n",
    "- **Ingeschrevenen_HO** shows the actual number of students enrolled per program and can be used to identify the specific programs that are experiencing the highest enrollment growth."
   ]
  },
  {
   "cell_type": "code",
   "execution_count": null,
   "id": "79926fd6",
   "metadata": {},
   "outputs": [],
   "source": [
    "\n",
    "plt.figure(figsize=(8,5))\n",
    "plt.plot(student_prognoses['Jaar'], student_prognoses['WO'], label='WO', color='teal')\n",
    "plt.plot(student_prognoses['Jaar'], student_prognoses['HBO'], label='HBO', color='orange')\n",
    "plt.title(\"Studentenaantallen HO met prognoses (2017–2038)\")\n",
    "plt.xlabel(\"Jaar\")\n",
    "plt.ylabel(\"Aantal studenten\")\n",
    "plt.legend()\n",
    "plt.grid(True)\n",
    "plt.show()\n"
   ]
  },
  {
   "cell_type": "code",
   "execution_count": null,
   "id": "f695c443",
   "metadata": {},
   "outputs": [],
   "source": [
    "\n",
    "import plotly.graph_objects as go\n",
    "\n",
    "fig = go.Figure()\n",
    "fig.add_trace(go.Scatter(x=student_prognoses['Jaar'], y=student_prognoses['WO'], name=\"WO\", line_color='teal'))\n",
    "fig.add_trace(go.Scatter(x=student_prognoses['Jaar'], y=student_prognoses['HBO'], name=\"HBO\", line_color='orange'))\n",
    "fig.update_layout(\n",
    "    title=\"Interactieve prognose studenten HO (2017–2038)\",\n",
    "    xaxis_title=\"Jaar\", yaxis_title=\"Aantal studenten\",\n",
    "    xaxis=dict(rangeslider=dict(visible=True)),\n",
    "    legend=dict(yanchor=\"bottom\", y=0.01)\n",
    ")\n",
    "fig.show()\n"
   ]
  },
  {
   "cell_type": "markdown",
   "id": "66076f6d",
   "metadata": {},
   "source": [
    "## Reflection\n",
    "Feedback from seminar led to clear captions, static/interactive balance, and readable color choices."
   ]
  },
  {
   "cell_type": "markdown",
   "id": "629a7bda",
   "metadata": {},
   "source": [
    "## Task distribution\n",
    "- **Jens Groen:** Data cleaning and figures perspective 1\n",
    "- **Thijs van der Meer:** Forecasts and interactive visuals\n",
    "- **Sarah Kruse:** Justifying perspectives, storyline, and structure\n"
   ]
  }
 ],
 "metadata": {
  "kernelspec": {
   "display_name": "python3*",
   "language": "python",
   "name": "python3"
  },
  "language_info": {
   "codemirror_mode": {
    "name": "ipython",
    "version": 3
   },
   "file_extension": ".py",
   "mimetype": "text/x-python",
   "name": "python",
   "nbconvert_exporter": "python",
   "pygments_lexer": "ipython3",
   "version": "3.10.16"
  }
 },
 "nbformat": 4,
 "nbformat_minor": 5
}