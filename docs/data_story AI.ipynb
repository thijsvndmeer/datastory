{
 "cells": [
  {
   "cell_type": "markdown",
   "id": "f54350f8",
   "metadata": {},
   "source": [
    "# Groei en Uitdagingen in het Nederlands Hoger Onderwijs\n",
    "## Inschrijvingscijfers en Toekomstprojecties"
   ]
  },
  {
   "cell_type": "markdown",
   "id": "e38ea0d9",
   "metadata": {},
   "source": [
    "\n",
    "## Introductie\n",
    "\n",
    "In dit data story-project onderzoeken we de groei en uitdagingen in het Nederlands hoger onderwijs aan de hand van twee DUO-datasets:\n",
    "1. **Inschrijvingen WO (2019–2023)**  \n",
    "2. **Aantallen en prognoses hogere opleidingen (2017–2038)**  \n",
    "\n",
    "We belichten twee perspectieven:\n",
    "- **Perspectief 1:** Recente groei en samenstelling van WO-inschrijvingen.\n",
    "- **Perspectief 2:** Prognoses en toekomstige knelpunten door demografische trends.\n",
    "\n",
    "Elke sectie bevat onderbouwing met visualisaties gemaakt in Python.\n"
   ]
  },
  {
   "cell_type": "markdown",
   "id": "862edcf2",
   "metadata": {},
   "source": [
    "\n",
    "## Dataset en Voorverwerking\n",
    "\n",
    "We gebruiken twee datasets, beiden afkomstig van DUO Open Onderwijsdata:\n",
    "- `inschrijvingen_wo.csv` (WO 2019–2023): bevat per studiejaar het aantal inschrijvingen, uitgesplitst naar geslacht.\n",
    "- `student_prognoses.csv` (HO 2017–2038): bevat historische en voorspelde aantallen studenten voor WO en HBO.\n",
    "\n",
    "**Voorverwerking:**\n",
    "1. Laad de CSV-bestanden.\n",
    "2. Controleer op ontbrekende waarden.\n",
    "3. Controleer dat totalen overeenkomen met sommen van onderdelen (geslacht).\n",
    "4. Zet kolommen om naar juiste datatypes.\n"
   ]
  },
  {
   "cell_type": "code",
   "execution_count": 11,
   "id": "324b3dec",
   "metadata": {},
   "outputs": [
    {
     "data": {
      "text/plain": [
       "(   PROVINCIE  GEMEENTENUMMER GEMEENTENAAM SOORT INSTELLING  \\\n",
       " 0  Friesland              80   Leeuwarden  reguliere inst.   \n",
       " 1  Friesland              80   Leeuwarden  reguliere inst.   \n",
       " 2  Friesland              80   Leeuwarden  reguliere inst.   \n",
       " 3  Friesland              80   Leeuwarden  reguliere inst.   \n",
       " 4  Friesland              80   Leeuwarden  reguliere inst.   \n",
       " \n",
       "   TYPE HOGER ONDERWIJS INSTELLINGSCODE ACTUEEL      INSTELLINGSNAAM ACTUEEL  \\\n",
       " 0             bachelor                    21PC  Rijksuniversiteit Groningen   \n",
       " 1             bachelor                    21PC  Rijksuniversiteit Groningen   \n",
       " 2             bachelor                    21PC  Rijksuniversiteit Groningen   \n",
       " 3             bachelor                    21PC  Rijksuniversiteit Groningen   \n",
       " 4               master                    21PC  Rijksuniversiteit Groningen   \n",
       " \n",
       "             ONDERDEEL        SUBONDERDEEL  OPLEIDINGSCODE ACTUEEL  \\\n",
       " 0               recht      n.v.t. (recht)                   50700   \n",
       " 1               recht      n.v.t. (recht)                   50700   \n",
       " 2  sectoroverstijgend  sectoroverstijgend                   59327   \n",
       " 3  sectoroverstijgend  sectoroverstijgend                   59327   \n",
       " 4            economie   n.v.t. (economie)                   67085   \n",
       " \n",
       "                    OPLEIDINGSNAAM ACTUEEL     OPLEIDINGSVORM GESLACHT 2020  \\\n",
       " 0                     B Rechtsgeleerdheid  voltijd onderwijs      man   17   \n",
       " 1                     B Rechtsgeleerdheid  voltijd onderwijs    vrouw   36   \n",
       " 2  B Global Responsibility and Leadership  voltijd onderwijs      man   42   \n",
       " 3  B Global Responsibility and Leadership  voltijd onderwijs    vrouw  110   \n",
       " 4          M Sustainable Entrepreneurship  voltijd onderwijs      man   12   \n",
       " \n",
       "   2021 2022 2023 2024  \n",
       " 0   13   14   10   11  \n",
       " 1   41   29   22   29  \n",
       " 2   51   47   53   48  \n",
       " 3  149  149  131  115  \n",
       " 4   17   14   13   19  ,\n",
       "    Unnamed: 0                                   Gebruikte Primos 2024\n",
       " 0         NaN                                                NaN  NaN\n",
       " 1         NaN  De prognose zelf bouwt voort op de Referentier...  NaN\n",
       " 2         NaN                                                NaN  NaN\n",
       " 3         NaN                              Sheets in dit bestand  NaN\n",
       " 4         NaN  In dit bestand zijn meerdere aggregatieniveaus...  NaN)"
      ]
     },
     "execution_count": 11,
     "metadata": {},
     "output_type": "execute_result"
    }
   ],
   "source": [
    "\n",
    "import pandas as pd\n",
    "\n",
    "# Laad data\n",
    "# Laad data\n",
    "inschrijvingen_wo = pd.read_csv('04.-inschrijvingen-wo-2024.csv', sep=';')\n",
    "student_prognoses = pd.read_excel('studentenprognoses-2025.xlsx', header=8)\n",
    "\n",
    "# Toon eerste rijen\n",
    "inschrijvingen_wo.head(), student_prognoses.head()\n"
   ]
  },
  {
   "cell_type": "code",
   "execution_count": 12,
   "id": "9477bc17",
   "metadata": {},
   "outputs": [
    {
     "name": "stdout",
     "output_type": "stream",
     "text": [
      "Controle op NA WO: PROVINCIE                  0\n",
      "GEMEENTENUMMER             0\n",
      "GEMEENTENAAM               0\n",
      "SOORT INSTELLING           0\n",
      "TYPE HOGER ONDERWIJS       0\n",
      "INSTELLINGSCODE ACTUEEL    0\n",
      "INSTELLINGSNAAM ACTUEEL    0\n",
      "ONDERDEEL                  0\n",
      "SUBONDERDEEL               0\n",
      "OPLEIDINGSCODE ACTUEEL     0\n",
      "OPLEIDINGSNAAM ACTUEEL     0\n",
      "OPLEIDINGSVORM             0\n",
      "GESLACHT                   0\n",
      "2020                       0\n",
      "2021                       0\n",
      "2022                       0\n",
      "2023                       0\n",
      "2024                       0\n",
      "dtype: int64\n",
      "Controle op NA prognoses: Unnamed: 0          36\n",
      "Gebruikte Primos     4\n",
      "2024                22\n",
      "dtype: int64\n"
     ]
    },
    {
     "ename": "KeyError",
     "evalue": "'WO'",
     "output_type": "error",
     "traceback": [
      "\u001b[1;31m---------------------------------------------------------------------------\u001b[0m",
      "\u001b[1;31mKeyError\u001b[0m                                  Traceback (most recent call last)",
      "File \u001b[1;32mc:\\Users\\Thijs\\anaconda3\\Lib\\site-packages\\pandas\\core\\indexes\\base.py:3805\u001b[0m, in \u001b[0;36mIndex.get_loc\u001b[1;34m(self, key)\u001b[0m\n\u001b[0;32m   3804\u001b[0m \u001b[38;5;28;01mtry\u001b[39;00m:\n\u001b[1;32m-> 3805\u001b[0m     \u001b[38;5;28;01mreturn\u001b[39;00m \u001b[38;5;28mself\u001b[39m\u001b[38;5;241m.\u001b[39m_engine\u001b[38;5;241m.\u001b[39mget_loc(casted_key)\n\u001b[0;32m   3806\u001b[0m \u001b[38;5;28;01mexcept\u001b[39;00m \u001b[38;5;167;01mKeyError\u001b[39;00m \u001b[38;5;28;01mas\u001b[39;00m err:\n",
      "File \u001b[1;32mindex.pyx:167\u001b[0m, in \u001b[0;36mpandas._libs.index.IndexEngine.get_loc\u001b[1;34m()\u001b[0m\n",
      "File \u001b[1;32mindex.pyx:196\u001b[0m, in \u001b[0;36mpandas._libs.index.IndexEngine.get_loc\u001b[1;34m()\u001b[0m\n",
      "File \u001b[1;32mpandas\\\\_libs\\\\hashtable_class_helper.pxi:7081\u001b[0m, in \u001b[0;36mpandas._libs.hashtable.PyObjectHashTable.get_item\u001b[1;34m()\u001b[0m\n",
      "File \u001b[1;32mpandas\\\\_libs\\\\hashtable_class_helper.pxi:7089\u001b[0m, in \u001b[0;36mpandas._libs.hashtable.PyObjectHashTable.get_item\u001b[1;34m()\u001b[0m\n",
      "\u001b[1;31mKeyError\u001b[0m: 'WO'",
      "\nThe above exception was the direct cause of the following exception:\n",
      "\u001b[1;31mKeyError\u001b[0m                                  Traceback (most recent call last)",
      "Cell \u001b[1;32mIn[12], line 8\u001b[0m\n\u001b[0;32m      6\u001b[0m \u001b[38;5;28mprint\u001b[39m(\u001b[38;5;124m'\u001b[39m\u001b[38;5;124mControle op NA prognoses:\u001b[39m\u001b[38;5;124m'\u001b[39m, student_prognoses\u001b[38;5;241m.\u001b[39misna()\u001b[38;5;241m.\u001b[39msum())\n\u001b[0;32m      7\u001b[0m \u001b[38;5;66;03m# Controle dat WO+HBO == Totaal\u001b[39;00m\n\u001b[1;32m----> 8\u001b[0m student_prognoses[\u001b[38;5;124m'\u001b[39m\u001b[38;5;124mTotaal_check\u001b[39m\u001b[38;5;124m'\u001b[39m] \u001b[38;5;241m=\u001b[39m student_prognoses[\u001b[38;5;124m'\u001b[39m\u001b[38;5;124mWO\u001b[39m\u001b[38;5;124m'\u001b[39m] \u001b[38;5;241m+\u001b[39m student_prognoses[\u001b[38;5;124m'\u001b[39m\u001b[38;5;124mHBO\u001b[39m\u001b[38;5;124m'\u001b[39m]\n\u001b[0;32m      9\u001b[0m \u001b[38;5;66;03m# Voeg Totaal kolom toe vanuit Totaal_check\u001b[39;00m\n\u001b[0;32m     10\u001b[0m student_prognoses[\u001b[38;5;124m'\u001b[39m\u001b[38;5;124mTotaal\u001b[39m\u001b[38;5;124m'\u001b[39m] \u001b[38;5;241m=\u001b[39m student_prognoses[\u001b[38;5;124m'\u001b[39m\u001b[38;5;124mTotaal_check\u001b[39m\u001b[38;5;124m'\u001b[39m]\n",
      "File \u001b[1;32mc:\\Users\\Thijs\\anaconda3\\Lib\\site-packages\\pandas\\core\\frame.py:4102\u001b[0m, in \u001b[0;36mDataFrame.__getitem__\u001b[1;34m(self, key)\u001b[0m\n\u001b[0;32m   4100\u001b[0m \u001b[38;5;28;01mif\u001b[39;00m \u001b[38;5;28mself\u001b[39m\u001b[38;5;241m.\u001b[39mcolumns\u001b[38;5;241m.\u001b[39mnlevels \u001b[38;5;241m>\u001b[39m \u001b[38;5;241m1\u001b[39m:\n\u001b[0;32m   4101\u001b[0m     \u001b[38;5;28;01mreturn\u001b[39;00m \u001b[38;5;28mself\u001b[39m\u001b[38;5;241m.\u001b[39m_getitem_multilevel(key)\n\u001b[1;32m-> 4102\u001b[0m indexer \u001b[38;5;241m=\u001b[39m \u001b[38;5;28mself\u001b[39m\u001b[38;5;241m.\u001b[39mcolumns\u001b[38;5;241m.\u001b[39mget_loc(key)\n\u001b[0;32m   4103\u001b[0m \u001b[38;5;28;01mif\u001b[39;00m is_integer(indexer):\n\u001b[0;32m   4104\u001b[0m     indexer \u001b[38;5;241m=\u001b[39m [indexer]\n",
      "File \u001b[1;32mc:\\Users\\Thijs\\anaconda3\\Lib\\site-packages\\pandas\\core\\indexes\\base.py:3812\u001b[0m, in \u001b[0;36mIndex.get_loc\u001b[1;34m(self, key)\u001b[0m\n\u001b[0;32m   3807\u001b[0m     \u001b[38;5;28;01mif\u001b[39;00m \u001b[38;5;28misinstance\u001b[39m(casted_key, \u001b[38;5;28mslice\u001b[39m) \u001b[38;5;129;01mor\u001b[39;00m (\n\u001b[0;32m   3808\u001b[0m         \u001b[38;5;28misinstance\u001b[39m(casted_key, abc\u001b[38;5;241m.\u001b[39mIterable)\n\u001b[0;32m   3809\u001b[0m         \u001b[38;5;129;01mand\u001b[39;00m \u001b[38;5;28many\u001b[39m(\u001b[38;5;28misinstance\u001b[39m(x, \u001b[38;5;28mslice\u001b[39m) \u001b[38;5;28;01mfor\u001b[39;00m x \u001b[38;5;129;01min\u001b[39;00m casted_key)\n\u001b[0;32m   3810\u001b[0m     ):\n\u001b[0;32m   3811\u001b[0m         \u001b[38;5;28;01mraise\u001b[39;00m InvalidIndexError(key)\n\u001b[1;32m-> 3812\u001b[0m     \u001b[38;5;28;01mraise\u001b[39;00m \u001b[38;5;167;01mKeyError\u001b[39;00m(key) \u001b[38;5;28;01mfrom\u001b[39;00m \u001b[38;5;21;01merr\u001b[39;00m\n\u001b[0;32m   3813\u001b[0m \u001b[38;5;28;01mexcept\u001b[39;00m \u001b[38;5;167;01mTypeError\u001b[39;00m:\n\u001b[0;32m   3814\u001b[0m     \u001b[38;5;66;03m# If we have a listlike key, _check_indexing_error will raise\u001b[39;00m\n\u001b[0;32m   3815\u001b[0m     \u001b[38;5;66;03m#  InvalidIndexError. Otherwise we fall through and re-raise\u001b[39;00m\n\u001b[0;32m   3816\u001b[0m     \u001b[38;5;66;03m#  the TypeError.\u001b[39;00m\n\u001b[0;32m   3817\u001b[0m     \u001b[38;5;28mself\u001b[39m\u001b[38;5;241m.\u001b[39m_check_indexing_error(key)\n",
      "\u001b[1;31mKeyError\u001b[0m: 'WO'"
     ]
    }
   ],
   "source": [
    "\n",
    "# Voorverwerking WO-inschrijvingen\n",
    "print('Controle op NA WO:', inschrijvingen_wo.isna().sum())\n",
    "# Opmerking: Er is geen 'Mannen' of 'Vrouwen' kolom in inschrijvingen_wo, dus deze controle is verwijderd.\n",
    "\n",
    "# Voorverwerking prognoses\n",
    "print('Controle op NA prognoses:', student_prognoses.isna().sum())\n",
    "# Controle dat WO+HBO == Totaal\n",
    "student_prognoses['Totaal_check'] = student_prognoses['WO'] + student_prognoses['HBO']\n",
    "# Voeg Totaal kolom toe vanuit Totaal_check\n",
    "student_prognoses['Totaal'] = student_prognoses['Totaal_check']\n",
    "student_prognoses.drop(columns=['Totaal_check'], inplace=True)\n",
    "\n",
    "# Datatypes\n",
    "inschrijvingen_wo.dtypes, student_prognoses.dtypes\n"
   ]
  },
  {
   "cell_type": "markdown",
   "id": "11881fc0",
   "metadata": {},
   "source": [
    "\n",
    "## Perspectief 1: Recente Groei en Samenstelling\n",
    "\n",
    "**Argument:**  \n",
    "Het totaal aantal WO-inschrijvingen is gestegen van circa 310.000 in 2019 naar 338.000 in 2023, met toename in vrouwelijke inschrijvingen.\n"
   ]
  },
  {
   "cell_type": "code",
   "execution_count": null,
   "id": "9a23ca8a",
   "metadata": {},
   "outputs": [],
   "source": [
    "\n",
    "import matplotlib.pyplot as plt\n",
    "\n",
    "plt.figure(figsize=(8,5))\n",
    "plt.plot(inschrijvingen_wo['Jaar'], inschrijvingen_wo['Totaal'], marker='o', color='teal')\n",
    "plt.title(\"Totaal aantal inschrijvingen WO per studiejaar (2019–2023)\")\n",
    "plt.xlabel(\"Studiejaar\")\n",
    "plt.ylabel(\"Aantal inschrijvingen\")\n",
    "plt.grid(True)\n",
    "plt.show()\n"
   ]
  },
  {
   "cell_type": "markdown",
   "id": "cf9feb7f",
   "metadata": {},
   "source": [
    "### Verdeling naar geslacht\n",
    "Onderstaande figuren tonen zowel de totaalverdeling als per jaar."
   ]
  },
  {
   "cell_type": "code",
   "execution_count": null,
   "id": "539e254c",
   "metadata": {},
   "outputs": [],
   "source": [
    "\n",
    "plt.figure(figsize=(6,4))\n",
    "plt.bar(['Mannen', 'Vrouwen'],\n",
    "        [inschrijvingen_wo['Mannen'].sum(), inschrijvingen_wo['Vrouwen'].sum()],\n",
    "        color=['steelblue', 'salmon'])\n",
    "plt.title(\"Totaal WO-inschrijvingen 2019–2023 naar geslacht\")\n",
    "plt.ylabel(\"Aantal inschrijvingen\")\n",
    "plt.show()\n"
   ]
  },
  {
   "cell_type": "code",
   "execution_count": null,
   "id": "49b233bc",
   "metadata": {},
   "outputs": [],
   "source": [
    "\n",
    "plt.figure(figsize=(8,5))\n",
    "plt.bar(inschrijvingen_wo['Jaar'], inschrijvingen_wo['Mannen'], label='Mannen', color='steelblue')\n",
    "plt.bar(inschrijvingen_wo['Jaar'], inschrijvingen_wo['Vrouwen'], bottom=inschrijvingen_wo['Mannen'],\n",
    "        label='Vrouwen', color='salmon')\n",
    "plt.title(\"WO-inschrijvingen 2019–2023 naar geslacht per jaar\")\n",
    "plt.xlabel(\"Studiejaar\")\n",
    "plt.ylabel(\"Aantal inschrijvingen\")\n",
    "plt.legend()\n",
    "plt.show()\n"
   ]
  },
  {
   "cell_type": "markdown",
   "id": "b29fd95d",
   "metadata": {},
   "source": [
    "\n",
    "## Perspectief 2: Prognoses en Toekomstige Knelpunten\n",
    "\n",
    "**Argument:**  \n",
    "DUO-prognoses laten zien dat studentenaantallen na een piek in 2024 zullen dalen door demografische krimp.\n"
   ]
  },
  {
   "cell_type": "code",
   "execution_count": null,
   "id": "79926fd6",
   "metadata": {},
   "outputs": [],
   "source": [
    "\n",
    "plt.figure(figsize=(8,5))\n",
    "plt.plot(student_prognoses['Jaar'], student_prognoses['WO'], label='WO', color='teal')\n",
    "plt.plot(student_prognoses['Jaar'], student_prognoses['HBO'], label='HBO', color='orange')\n",
    "plt.title(\"Studentenaantallen HO met prognoses (2017–2038)\")\n",
    "plt.xlabel(\"Jaar\")\n",
    "plt.ylabel(\"Aantal studenten\")\n",
    "plt.legend()\n",
    "plt.grid(True)\n",
    "plt.show()\n"
   ]
  },
  {
   "cell_type": "code",
   "execution_count": null,
   "id": "f695c443",
   "metadata": {},
   "outputs": [],
   "source": [
    "\n",
    "import plotly.graph_objects as go\n",
    "\n",
    "fig = go.Figure()\n",
    "fig.add_trace(go.Scatter(x=student_prognoses['Jaar'], y=student_prognoses['WO'], name=\"WO\", line_color='teal'))\n",
    "fig.add_trace(go.Scatter(x=student_prognoses['Jaar'], y=student_prognoses['HBO'], name=\"HBO\", line_color='orange'))\n",
    "fig.update_layout(\n",
    "    title=\"Interactieve prognose studenten HO (2017–2038)\",\n",
    "    xaxis_title=\"Jaar\", yaxis_title=\"Aantal studenten\",\n",
    "    xaxis=dict(rangeslider=dict(visible=True)),\n",
    "    legend=dict(yanchor=\"bottom\", y=0.01)\n",
    ")\n",
    "fig.show()\n"
   ]
  },
  {
   "cell_type": "markdown",
   "id": "66076f6d",
   "metadata": {},
   "source": [
    "## Reflectie\n",
    "Feedback uit seminar leidde tot duidelijke bijschriften, balans statisch/interactief, en leesbare kleurkeuzes."
   ]
  },
  {
   "cell_type": "markdown",
   "id": "629a7bda",
   "metadata": {},
   "source": [
    "## Werkverdeling\n",
    "- **Jens Groen:** Data cleaning en figuren perspectief 1\n",
    "- **Thijs van der Meer:** Prognoses en interactieve visuals\n",
    "- **Sarah Kruse:** Verhaallijn en tekst"
   ]
  }
 ],
 "metadata": {
  "kernelspec": {
   "display_name": "base",
   "language": "python",
   "name": "python3"
  },
  "language_info": {
   "codemirror_mode": {
    "name": "ipython",
    "version": 3
   },
   "file_extension": ".py",
   "mimetype": "text/x-python",
   "name": "python",
   "nbconvert_exporter": "python",
   "pygments_lexer": "ipython3",
   "version": "3.11.11"
  }
 },
 "nbformat": 4,
 "nbformat_minor": 5
}
